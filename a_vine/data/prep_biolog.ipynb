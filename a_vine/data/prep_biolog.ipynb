{
 "cells": [
  {
   "cell_type": "code",
   "execution_count": null,
   "id": "cac92712",
   "metadata": {
    "pycharm": {
     "name": "#%%\n"
    }
   },
   "outputs": [],
   "source": [
    "import pandas as pd\n",
    "import re\n",
    "import os\n",
    "import numpy as np"
   ]
  },
  {
   "cell_type": "code",
   "execution_count": null,
   "id": "8e213588",
   "metadata": {
    "pycharm": {
     "name": "#%%\n"
    }
   },
   "outputs": [],
   "source": [
    "from a_vine import model as av\n",
    "\n",
    "exchanges = set(i.id for i in av.exchanges)"
   ]
  },
  {
   "cell_type": "code",
   "execution_count": null,
   "id": "7bd718c8",
   "metadata": {
    "pycharm": {
     "name": "#%%\n"
    }
   },
   "outputs": [],
   "source": [
    "from concerto.helpers.biolog_to_exchange import biolog_map"
   ]
  },
  {
   "cell_type": "markdown",
   "id": "2326f3f5",
   "metadata": {
    "pycharm": {
     "name": "#%% md\n"
    }
   },
   "source": [
    "# Converting biolog plate data into something that can be used with cobra\n",
    "\n",
    "Basically mapping biolog ids to bigg ids. There is a reference file (biolog_from_jer) that has the mappings. I still don't know the original source. Will find."
   ]
  },
  {
   "cell_type": "code",
   "execution_count": null,
   "id": "7e8451af",
   "metadata": {
    "pycharm": {
     "name": "#%%\n"
    }
   },
   "outputs": [],
   "source": [
    "# parsing original file and saving to standard\n",
    "def create_biolog_to_bigg():\n",
    "    # read and cleanup mapping\n",
    "    biolog_map = pd.read_csv('biolog_from_jer.csv')\n",
    "    biolog_map.dropna(subset=['EX_ rxn ?'], inplace=True)\n",
    "    # yucky spaces\n",
    "    biolog_map['ex_rxn'] = biolog_map['EX_ rxn ?']\n",
    "    biolog_map['compound_name'] = biolog_map['cmpd name']\n",
    "    del biolog_map['EX_ rxn ?']\n",
    "    del biolog_map['cmpd name']\n",
    "    # standard IDs\n",
    "    biolog_map['plate'] = 'PM' + biolog_map['Identifier'].str[:1] + '-' \\\n",
    "                        + biolog_map['Identifier'].str[1] \\\n",
    "                        + biolog_map['Identifier'].str[2:].astype(int).astype(str)\n",
    "    biolog_map = biolog_map[['plate', 'ex_rxn', 'compound_name']]\n",
    "    biolog_map.sort_values('plate', inplace=True)\n",
    "    # fixing some errors where two underscores are used\n",
    "    biolog_map['exchange'] = biolog_map.ex_rxn.apply(parse)\n",
    "    \n",
    "    # save file for loading later\n",
    "    biolog_map.to_csv('plate_to_bigg.csv', index=False)\n",
    "    return biolog_map\n",
    "\n",
    "def parse(row):\n",
    "    rate = row\n",
    "\n",
    "    pattern = r'\\((.*?)\\)'\n",
    "    matches = re.findall(pattern, rate)\n",
    "    for m in matches:\n",
    "        repl = f'_{m}'\n",
    "        rate = re.sub(pattern, repl, rate)\n",
    "    pattern = r'\\_(.\\w?)\\_'\n",
    "\n",
    "    matches = re.findall(pattern, rate)\n",
    "    for m in matches:\n",
    "        repl = f'__{m}_'\n",
    "        rate = re.sub(pattern, repl, rate)\n",
    "    return rate\n",
    "\n",
    "# if os.path.exists('plate_to_bigg.csv'):\n",
    "#     biolog_map = pd.read_csv('plate_to_bigg.csv', index_col=False)\n",
    "# else:\n",
    "#     biolog_map = create_biolog_to_bigg()\n",
    "biolog_map.head()"
   ]
  },
  {
   "cell_type": "code",
   "execution_count": null,
   "id": "ee84fec6",
   "metadata": {
    "pycharm": {
     "name": "#%%\n"
    }
   },
   "outputs": [],
   "source": [
    "biolog_to_bigg = biolog_map.set_index('plate').to_dict()['exchange']"
   ]
  },
  {
   "cell_type": "code",
   "execution_count": null,
   "id": "8c8c3312",
   "metadata": {
    "pycharm": {
     "name": "#%%\n"
    }
   },
   "outputs": [],
   "source": [
    "\n",
    "# AV biolog data\n",
    "# Supplementary table 2 BIOLOG PLATES.xlsx\n",
    "# source: https://pubmed.ncbi.nlm.nih.gov/32551229/\n",
    "\n",
    "av_biolog = pd.read_excel('raw_data/Supplementary table 2 BIOLOG PLATES.xlsx')\n",
    "av_biolog.head()"
   ]
  },
  {
   "cell_type": "code",
   "execution_count": null,
   "id": "f8a011fa",
   "metadata": {
    "pycharm": {
     "name": "#%%\n"
    }
   },
   "outputs": [],
   "source": [
    "def get_plate(pm):\n",
    "    pm_sub = av_biolog[[pm, f'Conclusion {pm}']].copy()\n",
    "    pm_sub['plate']  = pm + '-' + pm_sub[pm]\n",
    "    pm_sub['outcome'] = pm_sub[f'Conclusion {pm}']\n",
    "    \n",
    "    pm_sub['growth']= np.nan\n",
    "    pm_sub.loc[pm_sub.outcome == 'Growth', 'growth']  = True\n",
    "    pm_sub.loc[pm_sub.outcome == 'Non-Growth', 'growth']  = False\n",
    "    pm_sub.dropna(subset=['growth'], inplace=True)\n",
    "    pm_sub['growth'] = pm_sub['growth'].astype(bool)\n",
    "    return pm_sub[['plate', 'growth']]\n",
    "\n",
    "pm1 = get_plate('PM1')\n",
    "pm2 = get_plate('PM2')\n",
    "pm3 = get_plate('PM3')\n",
    "carbon_sources = pd.concat([pm1, pm2])\n",
    "pm1"
   ]
  },
  {
   "cell_type": "code",
   "execution_count": null,
   "id": "55daf56f",
   "metadata": {
    "pycharm": {
     "name": "#%%\n"
    }
   },
   "outputs": [],
   "source": [
    "def merge_with_chem_ids(plate):\n",
    "    \n",
    "    merged = pd.concat(\n",
    "        [plate.set_index('plate'), biolog_map.set_index('plate')],\n",
    "        axis=1,\n",
    "        ignore_index=False\n",
    "    )\n",
    "    merged.dropna(subset=['growth', 'ex_rxn'], inplace=True)\n",
    "    \n",
    "    merged = merged.reset_index()[['exchange', 'growth']]\n",
    "\n",
    "    # define uptake, arbitrary for now\n",
    "    merged['uptake'] = 10\n",
    "    # reorder to match memote\n",
    "    merged = merged[['exchange', 'uptake', 'growth']]\n",
    "    \n",
    "    return merged\n",
    "\n",
    "def subset_to_in_model(plate, model_ex=exchanges):\n",
    "    return plate.loc[plate.exchange.isin(model_ex)]\n",
    "\n",
    "\n",
    "carbon_w_names = merge_with_chem_ids(carbon_sources)\n",
    "carbon_w_names_in_model = subset_to_in_model(carbon_w_names, exchanges)\n",
    "carbon_w_names_in_model.to_csv('growth/pm1_pm2_biolog.csv', index=False)\n"
   ]
  },
  {
   "cell_type": "code",
   "execution_count": null,
   "id": "5bc30459",
   "metadata": {
    "pycharm": {
     "name": "#%%\n"
    }
   },
   "outputs": [],
   "source": [
    "pm3_w_names = merge_with_chem_ids(pm3)\n",
    "pm3_w_names_in_model = subset_to_in_model(pm3_w_names)\n",
    "pm3_w_names_in_model.to_csv('growth/pm3_biolog.csv', index=False)\n"
   ]
  },
  {
   "cell_type": "code",
   "execution_count": null,
   "id": "ce00d0b8",
   "metadata": {
    "pycharm": {
     "name": "#%%\n"
    }
   },
   "outputs": [],
   "source": [
    "biolog_ex_pm1 = set(carbon_w_names.exchange.values)\n",
    "biolog_ex_pm3 = set(pm3_w_names.exchange.values)\n",
    "biolog_ex = biolog_ex_pm1.union(biolog_ex_pm3)\n",
    "# biolog_ex"
   ]
  },
  {
   "cell_type": "markdown",
   "id": "476c96f1",
   "metadata": {
    "pycharm": {
     "name": "#%% md\n"
    }
   },
   "source": [
    "# TODO\n",
    "Figure out why there are some missing"
   ]
  },
  {
   "cell_type": "code",
   "execution_count": null,
   "id": "1250d038",
   "metadata": {
    "pycharm": {
     "name": "#%%\n"
    }
   },
   "outputs": [],
   "source": [
    "print(f'{len(exchanges)} exchange metabolites in model')\n",
    "print(f'{len(biolog_ex)} exchange metabolites in biolog')"
   ]
  },
  {
   "cell_type": "code",
   "execution_count": null,
   "id": "9c61738b",
   "metadata": {
    "pycharm": {
     "name": "#%%\n"
    }
   },
   "outputs": [],
   "source": [
    "print(f'{len(biolog_ex.difference(exchanges))} missing in model')\n",
    "print(f'{len(exchanges.difference(biolog_ex))} missing in biolog')\n",
    "print(f'{len(exchanges.intersection(biolog_ex))} from model found in biolog')"
   ]
  },
  {
   "cell_type": "markdown",
   "id": "cb260801",
   "metadata": {
    "pycharm": {
     "name": "#%% md\n"
    }
   },
   "source": [
    "<img src=\"https://ars.els-cdn.com/content/image/1-s2.0-S2214030120300043-gr3.jpg\" alt=\"Experimental\" /> "
   ]
  },
  {
   "cell_type": "code",
   "execution_count": null,
   "id": "b6eb70a0",
   "metadata": {
    "pycharm": {
     "name": "#%%\n"
    }
   },
   "outputs": [],
   "source": [
    "for i in sorted(exchanges.difference(biolog_ex)):\n",
    "    print(i)"
   ]
  },
  {
   "cell_type": "code",
   "execution_count": null,
   "id": "3cd456bd",
   "metadata": {
    "pycharm": {
     "name": "#%%\n"
    }
   },
   "outputs": [],
   "source": [
    "for i in sorted(biolog_ex.difference(exchanges)):\n",
    "    print(i)"
   ]
  },
  {
   "cell_type": "markdown",
   "id": "9937f142",
   "metadata": {
    "pycharm": {
     "name": "#%% md\n"
    }
   },
   "source": [
    "\n",
    "Found case where extra underscores made items missing. Fixed.\n",
    "\n",
    "<strike>Some have '__\\' in model, but only 1 in biolog. EX_12ppd_S_e vs EX_12ppd__S_e. There is also a EX_12ppd__R_e and EX_12ppd__S_e (R and S) difference.\n",
    "\n",
    "<strike>\n",
    "    \n",
    "Fixed"
   ]
  },
  {
   "cell_type": "markdown",
   "id": "ec7c6615",
   "metadata": {
    "pycharm": {
     "name": "#%% md\n"
    }
   },
   "source": [
    "## Data from Biolog that is not in the model."
   ]
  },
  {
   "cell_type": "code",
   "execution_count": null,
   "id": "ec1d418f",
   "metadata": {
    "pycharm": {
     "name": "#%%\n"
    }
   },
   "outputs": [],
   "source": [
    "for i in sorted(biolog_ex.difference(exchanges)):\n",
    "    print(i)"
   ]
  }
 ],
 "metadata": {
  "kernelspec": {
   "display_name": "Python 3 (ipykernel)",
   "language": "python",
   "name": "python3"
  },
  "language_info": {
   "codemirror_mode": {
    "name": "ipython",
    "version": 3
   },
   "file_extension": ".py",
   "mimetype": "text/x-python",
   "name": "python",
   "nbconvert_exporter": "python",
   "pygments_lexer": "ipython3",
   "version": "3.10.6"
  }
 },
 "nbformat": 4,
 "nbformat_minor": 5
}
