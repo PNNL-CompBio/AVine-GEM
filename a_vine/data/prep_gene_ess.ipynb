{
 "cells": [
  {
   "cell_type": "code",
   "execution_count": null,
   "id": "011c76d2",
   "metadata": {},
   "outputs": [],
   "source": [
    "import pandas as pd\n",
    "import numpy as np\n",
    "from a_vine import model as av"
   ]
  },
  {
   "cell_type": "code",
   "execution_count": null,
   "id": "60f18ce3",
   "metadata": {},
   "outputs": [],
   "source": [
    "model_genes = [g.id for g in av.genes]"
   ]
  },
  {
   "cell_type": "code",
   "execution_count": null,
   "id": "20f0e8a8",
   "metadata": {},
   "outputs": [],
   "source": [
    "df = pd.read_excel('raw_data/ge_azo_jb.00404-21-s0005.xlsx', skiprows=4)"
   ]
  },
  {
   "cell_type": "code",
   "execution_count": null,
   "id": "edb6d786",
   "metadata": {},
   "outputs": [],
   "source": [
    "df.head()"
   ]
  },
  {
   "cell_type": "code",
   "execution_count": null,
   "id": "c9e7953b",
   "metadata": {},
   "outputs": [],
   "source": [
    "ess_genes = df[['Unnamed: 1']].copy()\n",
    "ess_genes['gene'] = ess_genes['Unnamed: 1']\n",
    "ess_genes['essential'] = True\n",
    "del[ess_genes['Unnamed: 1']]\n",
    "ess_genes.shape"
   ]
  },
  {
   "cell_type": "code",
   "execution_count": null,
   "id": "57a3e207",
   "metadata": {},
   "outputs": [],
   "source": [
    "all_genes = pd.DataFrame(np.array([model_genes, [0,]*len(model_genes)]).T, columns=['gene', 'essential'])\n",
    "all_genes.head()"
   ]
  },
  {
   "cell_type": "code",
   "execution_count": null,
   "id": "31772cf5",
   "metadata": {},
   "outputs": [],
   "source": [
    "all_genes.loc[all_genes.gene.isin(ess_genes.gene), 'essential'] = True\n",
    "all_genes.loc[~all_genes.gene.isin(ess_genes.gene), 'essential'] = False"
   ]
  },
  {
   "cell_type": "code",
   "execution_count": null,
   "id": "589c5459",
   "metadata": {},
   "outputs": [],
   "source": [
    "all_genes.head()"
   ]
  },
  {
   "cell_type": "code",
   "execution_count": null,
   "id": "10c1dd07",
   "metadata": {},
   "outputs": [],
   "source": [
    "all_genes.essential.unique()"
   ]
  },
  {
   "cell_type": "code",
   "execution_count": null,
   "id": "95bd64a8",
   "metadata": {},
   "outputs": [],
   "source": [
    "all_genes.to_csv('essentiality/ge_knockouts.csv')"
   ]
  }
 ],
 "metadata": {
  "kernelspec": {
   "display_name": "Python 3 (ipykernel)",
   "language": "python",
   "name": "python3"
  },
  "language_info": {
   "codemirror_mode": {
    "name": "ipython",
    "version": 3
   },
   "file_extension": ".py",
   "mimetype": "text/x-python",
   "name": "python",
   "nbconvert_exporter": "python",
   "pygments_lexer": "ipython3",
   "version": "3.10.6"
  }
 },
 "nbformat": 4,
 "nbformat_minor": 5
}
