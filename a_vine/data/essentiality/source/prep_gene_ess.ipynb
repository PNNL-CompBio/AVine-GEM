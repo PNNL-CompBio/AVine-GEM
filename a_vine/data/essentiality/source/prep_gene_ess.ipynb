{
 "cells": [
  {
   "cell_type": "code",
   "execution_count": 1,
   "id": "011c76d2",
   "metadata": {
    "pycharm": {
     "name": "#%%\n"
    }
   },
   "outputs": [
    {
     "name": "stdout",
     "output_type": "stream",
     "text": [
      "Set parameter Username\n",
      "Set parameter GURO_PAR_SPECIAL\n",
      "Set parameter TokenServer to value \"leghorn\"\n"
     ]
    }
   ],
   "source": [
    "import pandas as pd\n",
    "import numpy as np\n",
    "from a_vine import model as av"
   ]
  },
  {
   "cell_type": "code",
   "execution_count": 2,
   "id": "60f18ce3",
   "metadata": {
    "pycharm": {
     "name": "#%%\n"
    }
   },
   "outputs": [],
   "source": [
    "model_genes = [g.id for g in av.genes]"
   ]
  },
  {
   "cell_type": "code",
   "execution_count": 3,
   "id": "20f0e8a8",
   "metadata": {
    "pycharm": {
     "name": "#%%\n"
    }
   },
   "outputs": [],
   "source": [
    "df = pd.read_excel('jb.00404-21-s0005.xlsx', skiprows=4)"
   ]
  },
  {
   "cell_type": "code",
   "execution_count": 4,
   "id": "edb6d786",
   "metadata": {
    "pycharm": {
     "name": "#%%\n"
    }
   },
   "outputs": [
    {
     "data": {
      "text/html": [
       "<div>\n",
       "<style scoped>\n",
       "    .dataframe tbody tr th:only-of-type {\n",
       "        vertical-align: middle;\n",
       "    }\n",
       "\n",
       "    .dataframe tbody tr th {\n",
       "        vertical-align: top;\n",
       "    }\n",
       "\n",
       "    .dataframe thead th {\n",
       "        text-align: right;\n",
       "    }\n",
       "</style>\n",
       "<table border=\"1\" class=\"dataframe\">\n",
       "  <thead>\n",
       "    <tr style=\"text-align: right;\">\n",
       "      <th></th>\n",
       "      <th>Unnamed: 0</th>\n",
       "      <th>Unnamed: 1</th>\n",
       "      <th>Unnamed: 2</th>\n",
       "      <th>gene_cnt</th>\n",
       "      <th>n_ta</th>\n",
       "      <th>n_hit</th>\n",
       "      <th>grp</th>\n",
       "      <th>Unnamed: 7</th>\n",
       "      <th>Unnamed: 8</th>\n",
       "      <th>Unnamed: 9</th>\n",
       "      <th>Unnamed: 10</th>\n",
       "      <th>Unnamed: 11</th>\n",
       "    </tr>\n",
       "  </thead>\n",
       "  <tbody>\n",
       "    <tr>\n",
       "      <th>0</th>\n",
       "      <td>NaN</td>\n",
       "      <td>Avin_09640</td>\n",
       "      <td>Avin_09640</td>\n",
       "      <td>555.345803</td>\n",
       "      <td>100</td>\n",
       "      <td>11</td>\n",
       "      <td>E</td>\n",
       "      <td>PA3228</td>\n",
       "      <td>PA3228</td>\n",
       "      <td>1.890000e-38</td>\n",
       "      <td>146.0</td>\n",
       "      <td>NaN</td>\n",
       "    </tr>\n",
       "    <tr>\n",
       "      <th>1</th>\n",
       "      <td>NaN</td>\n",
       "      <td>Avin_09722</td>\n",
       "      <td>Avin_09722</td>\n",
       "      <td>307.974828</td>\n",
       "      <td>55</td>\n",
       "      <td>6</td>\n",
       "      <td>E</td>\n",
       "      <td>PA5489</td>\n",
       "      <td>dsbA</td>\n",
       "      <td>8.880000e-15</td>\n",
       "      <td>67.4</td>\n",
       "      <td>NaN</td>\n",
       "    </tr>\n",
       "    <tr>\n",
       "      <th>2</th>\n",
       "      <td>NaN</td>\n",
       "      <td>Avin_46800</td>\n",
       "      <td>lptD</td>\n",
       "      <td>291.405339</td>\n",
       "      <td>54</td>\n",
       "      <td>23</td>\n",
       "      <td>E</td>\n",
       "      <td>PA0595</td>\n",
       "      <td>ostA</td>\n",
       "      <td>0.000000e+00</td>\n",
       "      <td>1129.0</td>\n",
       "      <td>E</td>\n",
       "    </tr>\n",
       "    <tr>\n",
       "      <th>3</th>\n",
       "      <td>NaN</td>\n",
       "      <td>Avin_37310</td>\n",
       "      <td>Avin_37310</td>\n",
       "      <td>119.583577</td>\n",
       "      <td>51</td>\n",
       "      <td>5</td>\n",
       "      <td>E</td>\n",
       "      <td>NaN</td>\n",
       "      <td>NaN</td>\n",
       "      <td>NaN</td>\n",
       "      <td>NaN</td>\n",
       "      <td>NaN</td>\n",
       "    </tr>\n",
       "    <tr>\n",
       "      <th>4</th>\n",
       "      <td>NaN</td>\n",
       "      <td>Avin_33290</td>\n",
       "      <td>nrdA</td>\n",
       "      <td>19.494962</td>\n",
       "      <td>48</td>\n",
       "      <td>10</td>\n",
       "      <td>E</td>\n",
       "      <td>PA1156</td>\n",
       "      <td>nrdA</td>\n",
       "      <td>0.000000e+00</td>\n",
       "      <td>970.0</td>\n",
       "      <td>E</td>\n",
       "    </tr>\n",
       "  </tbody>\n",
       "</table>\n",
       "</div>"
      ],
      "text/plain": [
       "   Unnamed: 0  Unnamed: 1  Unnamed: 2    gene_cnt  n_ta  n_hit grp Unnamed: 7  \\\n",
       "0         NaN  Avin_09640  Avin_09640  555.345803   100     11   E     PA3228   \n",
       "1         NaN  Avin_09722  Avin_09722  307.974828    55      6   E     PA5489   \n",
       "2         NaN  Avin_46800        lptD  291.405339    54     23   E     PA0595   \n",
       "3         NaN  Avin_37310  Avin_37310  119.583577    51      5   E        NaN   \n",
       "4         NaN  Avin_33290        nrdA   19.494962    48     10   E     PA1156   \n",
       "\n",
       "  Unnamed: 8    Unnamed: 9  Unnamed: 10 Unnamed: 11  \n",
       "0     PA3228  1.890000e-38        146.0         NaN  \n",
       "1       dsbA  8.880000e-15         67.4         NaN  \n",
       "2       ostA  0.000000e+00       1129.0           E  \n",
       "3        NaN           NaN          NaN         NaN  \n",
       "4       nrdA  0.000000e+00        970.0           E  "
      ]
     },
     "execution_count": 4,
     "metadata": {},
     "output_type": "execute_result"
    }
   ],
   "source": [
    "df.head()"
   ]
  },
  {
   "cell_type": "code",
   "execution_count": 5,
   "id": "c9e7953b",
   "metadata": {
    "pycharm": {
     "name": "#%%\n"
    }
   },
   "outputs": [
    {
     "data": {
      "text/plain": [
       "(475, 2)"
      ]
     },
     "execution_count": 5,
     "metadata": {},
     "output_type": "execute_result"
    }
   ],
   "source": [
    "ess_genes = df[['Unnamed: 1']].copy()\n",
    "ess_genes['gene'] = ess_genes['Unnamed: 1']\n",
    "ess_genes['essential'] = True\n",
    "del[ess_genes['Unnamed: 1']]\n",
    "ess_genes.shape"
   ]
  },
  {
   "cell_type": "code",
   "execution_count": 6,
   "id": "57a3e207",
   "metadata": {
    "pycharm": {
     "name": "#%%\n"
    }
   },
   "outputs": [
    {
     "data": {
      "text/html": [
       "<div>\n",
       "<style scoped>\n",
       "    .dataframe tbody tr th:only-of-type {\n",
       "        vertical-align: middle;\n",
       "    }\n",
       "\n",
       "    .dataframe tbody tr th {\n",
       "        vertical-align: top;\n",
       "    }\n",
       "\n",
       "    .dataframe thead th {\n",
       "        text-align: right;\n",
       "    }\n",
       "</style>\n",
       "<table border=\"1\" class=\"dataframe\">\n",
       "  <thead>\n",
       "    <tr style=\"text-align: right;\">\n",
       "      <th></th>\n",
       "      <th>gene</th>\n",
       "      <th>essential</th>\n",
       "    </tr>\n",
       "  </thead>\n",
       "  <tbody>\n",
       "    <tr>\n",
       "      <th>0</th>\n",
       "      <td>Avin_00080</td>\n",
       "      <td>0</td>\n",
       "    </tr>\n",
       "    <tr>\n",
       "      <th>1</th>\n",
       "      <td>Avin_00090</td>\n",
       "      <td>0</td>\n",
       "    </tr>\n",
       "    <tr>\n",
       "      <th>2</th>\n",
       "      <td>Avin_00100</td>\n",
       "      <td>0</td>\n",
       "    </tr>\n",
       "    <tr>\n",
       "      <th>3</th>\n",
       "      <td>Avin_00110</td>\n",
       "      <td>0</td>\n",
       "    </tr>\n",
       "    <tr>\n",
       "      <th>4</th>\n",
       "      <td>Avin_00130</td>\n",
       "      <td>0</td>\n",
       "    </tr>\n",
       "  </tbody>\n",
       "</table>\n",
       "</div>"
      ],
      "text/plain": [
       "         gene essential\n",
       "0  Avin_00080         0\n",
       "1  Avin_00090         0\n",
       "2  Avin_00100         0\n",
       "3  Avin_00110         0\n",
       "4  Avin_00130         0"
      ]
     },
     "execution_count": 6,
     "metadata": {},
     "output_type": "execute_result"
    }
   ],
   "source": [
    "all_genes = pd.DataFrame(np.array([model_genes, [0,]*len(model_genes)]).T, columns=['gene', 'essential'])\n",
    "all_genes.head()"
   ]
  },
  {
   "cell_type": "code",
   "execution_count": 7,
   "id": "31772cf5",
   "metadata": {
    "pycharm": {
     "name": "#%%\n"
    }
   },
   "outputs": [],
   "source": [
    "all_genes.loc[all_genes.gene.isin(ess_genes.gene), 'essential'] = True\n",
    "all_genes.loc[~all_genes.gene.isin(ess_genes.gene), 'essential'] = False"
   ]
  },
  {
   "cell_type": "code",
   "execution_count": 8,
   "id": "589c5459",
   "metadata": {
    "pycharm": {
     "name": "#%%\n"
    }
   },
   "outputs": [
    {
     "data": {
      "text/html": [
       "<div>\n",
       "<style scoped>\n",
       "    .dataframe tbody tr th:only-of-type {\n",
       "        vertical-align: middle;\n",
       "    }\n",
       "\n",
       "    .dataframe tbody tr th {\n",
       "        vertical-align: top;\n",
       "    }\n",
       "\n",
       "    .dataframe thead th {\n",
       "        text-align: right;\n",
       "    }\n",
       "</style>\n",
       "<table border=\"1\" class=\"dataframe\">\n",
       "  <thead>\n",
       "    <tr style=\"text-align: right;\">\n",
       "      <th></th>\n",
       "      <th>gene</th>\n",
       "      <th>essential</th>\n",
       "    </tr>\n",
       "  </thead>\n",
       "  <tbody>\n",
       "    <tr>\n",
       "      <th>0</th>\n",
       "      <td>Avin_00080</td>\n",
       "      <td>True</td>\n",
       "    </tr>\n",
       "    <tr>\n",
       "      <th>1</th>\n",
       "      <td>Avin_00090</td>\n",
       "      <td>False</td>\n",
       "    </tr>\n",
       "    <tr>\n",
       "      <th>2</th>\n",
       "      <td>Avin_00100</td>\n",
       "      <td>True</td>\n",
       "    </tr>\n",
       "    <tr>\n",
       "      <th>3</th>\n",
       "      <td>Avin_00110</td>\n",
       "      <td>True</td>\n",
       "    </tr>\n",
       "    <tr>\n",
       "      <th>4</th>\n",
       "      <td>Avin_00130</td>\n",
       "      <td>False</td>\n",
       "    </tr>\n",
       "  </tbody>\n",
       "</table>\n",
       "</div>"
      ],
      "text/plain": [
       "         gene essential\n",
       "0  Avin_00080      True\n",
       "1  Avin_00090     False\n",
       "2  Avin_00100      True\n",
       "3  Avin_00110      True\n",
       "4  Avin_00130     False"
      ]
     },
     "execution_count": 8,
     "metadata": {},
     "output_type": "execute_result"
    }
   ],
   "source": [
    "all_genes.head()"
   ]
  },
  {
   "cell_type": "code",
   "execution_count": 9,
   "id": "10c1dd07",
   "metadata": {
    "pycharm": {
     "name": "#%%\n"
    }
   },
   "outputs": [
    {
     "data": {
      "text/plain": [
       "array([True, False], dtype=object)"
      ]
     },
     "execution_count": 9,
     "metadata": {},
     "output_type": "execute_result"
    }
   ],
   "source": [
    "all_genes.essential.unique()"
   ]
  },
  {
   "cell_type": "code",
   "execution_count": 10,
   "id": "95bd64a8",
   "metadata": {
    "pycharm": {
     "name": "#%%\n"
    }
   },
   "outputs": [],
   "source": [
    "all_genes.to_csv('../ge_knockouts.csv', index=False)"
   ]
  },
  {
   "cell_type": "code",
   "execution_count": null,
   "id": "c12739cf",
   "metadata": {
    "pycharm": {
     "name": "#%%\n"
    }
   },
   "outputs": [],
   "source": []
  }
 ],
 "metadata": {
  "kernelspec": {
   "display_name": "Python 3 (ipykernel)",
   "language": "python",
   "name": "python3"
  },
  "language_info": {
   "codemirror_mode": {
    "name": "ipython",
    "version": 3
   },
   "file_extension": ".py",
   "mimetype": "text/x-python",
   "name": "python",
   "nbconvert_exporter": "python",
   "pygments_lexer": "ipython3",
   "version": "3.10.6"
  }
 },
 "nbformat": 4,
 "nbformat_minor": 5
}